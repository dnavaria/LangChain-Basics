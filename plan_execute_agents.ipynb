{
 "cells": [
  {
   "cell_type": "code",
   "execution_count": null,
   "metadata": {},
   "outputs": [],
   "source": [
    "# libs\n",
    "import json\n",
    "import os\n",
    "from dotenv import load_dotenv\n",
    "\n",
    "load_dotenv(\".env\")\n",
    "os.environ[\"OPENAI_API_KEY\"] = os.getenv(\"OPENAI_API_KEY\")\n",
    "os.environ[\"SERPAPI_API_KEY\"] = os.getenv(\"SERP_API_KEY\")\n",
    "\n",
    "from langchain.chat_models import ChatOpenAI\n",
    "from langchain_experimental.plan_and_execute import PlanAndExecute, load_chat_planner, load_agent_executor\n",
    "from langchain.llms import OpenAI\n",
    "from langchain.utilities import SerpAPIWrapper, WikipediaAPIWrapper\n",
    "from langchain.agents.tools import Tool\n",
    "from langchain.chains import LLMMathChain"
   ]
  },
  {
   "cell_type": "markdown",
   "metadata": {},
   "source": [
    "# Plan & Execute Agents"
   ]
  },
  {
   "cell_type": "markdown",
   "metadata": {},
   "source": [
    "- First plan the series of steps, and then execute each one\n",
    "- The steps are for the following prompt:\n",
    "    - Search for the location\n",
    "    - Identify the country\n",
    "    - Search for the population of that country\n",
    "    - Raise to the power of 0.43\n",
    "- They are based off the plan and solve paper\n",
    "- A LLM is always planning and executor is always executing"
   ]
  },
  {
   "cell_type": "code",
   "execution_count": 47,
   "metadata": {},
   "outputs": [],
   "source": [
    "prompt = \"Where are the next summer olympics going to be hosted? Who is the president of that country?\""
   ]
  },
  {
   "cell_type": "code",
   "execution_count": 48,
   "metadata": {},
   "outputs": [],
   "source": [
    "llm = OpenAI(temperature=0)\n",
    "llm_math_chain = LLMMathChain.from_llm(\n",
    "    llm=llm,\n",
    "    verbose=True\n",
    ")\n",
    "search = SerpAPIWrapper()\n",
    "wikipedia = WikipediaAPIWrapper()"
   ]
  },
  {
   "cell_type": "code",
   "execution_count": 49,
   "metadata": {},
   "outputs": [],
   "source": [
    "tools = [\n",
    "    Tool(\n",
    "        name=\"Search\",\n",
    "        func=search.run,\n",
    "        description=\"useful for when you need to answer questions about current events.\"\n",
    "    ),\n",
    "    Tool(\n",
    "        name=\"Wikipedia\",\n",
    "        func=wikipedia.run,\n",
    "        description=\"useful for when you need to lookup facts and statistics.\"\n",
    "    ),\n",
    "    Tool(\n",
    "        name=\"Calculator\",\n",
    "        func=llm_math_chain.run,\n",
    "        description=\"useful for when you need to answer questions about math.\"\n",
    "    ),\n",
    "]"
   ]
  },
  {
   "cell_type": "code",
   "execution_count": 50,
   "metadata": {},
   "outputs": [],
   "source": [
    "model = ChatOpenAI(temperature=0)\n",
    "planner = load_chat_planner(model)\n",
    "executor = load_agent_executor(model, tools, verbose=True)"
   ]
  },
  {
   "cell_type": "code",
   "execution_count": 51,
   "metadata": {},
   "outputs": [],
   "source": [
    "agent = PlanAndExecute(\n",
    "    executor=executor,\n",
    "    planner=planner,\n",
    "    verbose=True\n",
    ")"
   ]
  },
  {
   "cell_type": "code",
   "execution_count": 52,
   "metadata": {},
   "outputs": [
    {
     "name": "stdout",
     "output_type": "stream",
     "text": [
      "\n",
      "\n",
      "\u001b[1m> Entering new PlanAndExecute chain...\u001b[0m\n",
      "steps=[Step(value='Research the location of the next summer Olympics.'), Step(value='Find information about the president of that country.'), Step(value=\"Given the above steps taken, respond to the user's original question.\\n\\n\")]\n",
      "\n",
      "\u001b[1m> Entering new AgentExecutor chain...\u001b[0m\n",
      "\u001b[32;1m\u001b[1;3mAction:\n",
      "{\n",
      "  \"action\": \"Search\",\n",
      "  \"action_input\": \"location of next summer Olympics\"\n",
      "}\u001b[0m\n",
      "\n",
      "\u001b[1m> Finished chain.\u001b[0m\n",
      "*****\n",
      "\n",
      "Step: Research the location of the next summer Olympics.\n",
      "\n",
      "Response: Action:\n",
      "{\n",
      "  \"action\": \"Search\",\n",
      "  \"action_input\": \"location of next summer Olympics\"\n",
      "}\n",
      "\n",
      "\u001b[1m> Entering new AgentExecutor chain...\u001b[0m\n",
      "\u001b[32;1m\u001b[1;3mThought: Since we already know the location of the next summer Olympics, we can use that information to find the country where the Olympics will be held. Once we know the country, we can search for information about its president.\n",
      "\n",
      "Action:\n",
      "```\n",
      "{\n",
      "  \"action\": \"Search\",\n",
      "  \"action_input\": \"president of [country name]\"\n",
      "}\n",
      "```\u001b[0m\n",
      "Observation: \u001b[36;1m\u001b[1;3mAmerican\u001b[0m\n",
      "Thought:\u001b[32;1m\u001b[1;3mSince the previous step mentioned the location of the next summer Olympics, we can assume that the country in question is the United States. Therefore, we can search for information about the president of the United States.\n",
      "\n",
      "Action:\n",
      "```\n",
      "{\n",
      "  \"action\": \"Search\",\n",
      "  \"action_input\": \"president of United States\"\n",
      "}\n",
      "```\u001b[0m\n",
      "Observation: \u001b[36;1m\u001b[1;3mJoe Biden\u001b[0m\n",
      "Thought:\u001b[32;1m\u001b[1;3mBased on the search results, the current president of the United States is Joe Biden. \n",
      "\n",
      "Action:\n",
      "```\n",
      "{\n",
      "  \"action\": \"Final Answer\",\n",
      "  \"action_input\": \"Joe Biden\"\n",
      "}\n",
      "```\u001b[0m\n",
      "\n",
      "\u001b[1m> Finished chain.\u001b[0m\n",
      "*****\n",
      "\n",
      "Step: Find information about the president of that country.\n",
      "\n",
      "Response: Joe Biden\n",
      "\n",
      "\u001b[1m> Entering new AgentExecutor chain...\u001b[0m\n",
      "\u001b[32;1m\u001b[1;3mAction:\n",
      "```{\n",
      "  \"action\": \"Final Answer\",\n",
      "  \"action_input\": \"The location of the next summer Olympics is Tokyo, Japan. The president of Japan is Yoshihide Suga.\"\n",
      "}```\u001b[0m\n",
      "\n",
      "\u001b[1m> Finished chain.\u001b[0m\n",
      "*****\n",
      "\n",
      "Step: Given the above steps taken, respond to the user's original question.\n",
      "\n",
      "\n",
      "\n",
      "Response: Action:\n",
      "```{\n",
      "  \"action\": \"Final Answer\",\n",
      "  \"action_input\": \"The location of the next summer Olympics is Tokyo, Japan. The president of Japan is Yoshihide Suga.\"\n",
      "}```\n",
      "\u001b[1m> Finished chain.\u001b[0m\n"
     ]
    },
    {
     "data": {
      "text/plain": [
       "'Action:\\n```{\\n  \"action\": \"Final Answer\",\\n  \"action_input\": \"The location of the next summer Olympics is Tokyo, Japan. The president of Japan is Yoshihide Suga.\"\\n}```'"
      ]
     },
     "execution_count": 52,
     "metadata": {},
     "output_type": "execute_result"
    }
   ],
   "source": [
    "agent.run(prompt)"
   ]
  },
  {
   "cell_type": "code",
   "execution_count": null,
   "metadata": {},
   "outputs": [],
   "source": []
  }
 ],
 "metadata": {
  "kernelspec": {
   "display_name": "venv",
   "language": "python",
   "name": "python3"
  },
  "language_info": {
   "codemirror_mode": {
    "name": "ipython",
    "version": 3
   },
   "file_extension": ".py",
   "mimetype": "text/x-python",
   "name": "python",
   "nbconvert_exporter": "python",
   "pygments_lexer": "ipython3",
   "version": "3.10.12"
  },
  "orig_nbformat": 4
 },
 "nbformat": 4,
 "nbformat_minor": 2
}
