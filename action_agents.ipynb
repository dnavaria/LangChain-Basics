{
 "cells": [
  {
   "cell_type": "code",
   "execution_count": 5,
   "metadata": {},
   "outputs": [],
   "source": [
    "# libs\n",
    "import json\n",
    "import os\n",
    "from dotenv import load_dotenv\n",
    "\n",
    "load_dotenv(\".env\")\n",
    "os.environ[\"OPENAI_API_KEY\"] = os.getenv(\"OPENAI_API_KEY\")\n",
    "os.environ[\"HUGGINGFACEHUB_API_TOKEN\"] = os.getenv(\"HUGGINGFACE_API_KEY\")\n",
    "\n",
    "from langchain import OpenAI, LLMChain, PromptTemplate\n",
    "from langchain.agents import load_tools, initialize_agent\n",
    "from langchain.llms import HuggingFaceHub"
   ]
  },
  {
   "cell_type": "code",
   "execution_count": 4,
   "metadata": {},
   "outputs": [
    {
     "name": "stdout",
     "output_type": "stream",
     "text": [
      "[   'python_repl',\n",
      "    'requests',\n",
      "    'requests_get',\n",
      "    'requests_post',\n",
      "    'requests_patch',\n",
      "    'requests_put',\n",
      "    'requests_delete',\n",
      "    'terminal',\n",
      "    'sleep',\n",
      "    'wolfram-alpha',\n",
      "    'google-search',\n",
      "    'google-search-results-json',\n",
      "    'searx-search-results-json',\n",
      "    'bing-search',\n",
      "    'metaphor-search',\n",
      "    'ddg-search',\n",
      "    'google-serper',\n",
      "    'google-serper-results-json',\n",
      "    'searchapi',\n",
      "    'searchapi-results-json',\n",
      "    'serpapi',\n",
      "    'dalle-image-generator',\n",
      "    'twilio',\n",
      "    'searx-search',\n",
      "    'wikipedia',\n",
      "    'arxiv',\n",
      "    'golden-query',\n",
      "    'pubmed',\n",
      "    'human',\n",
      "    'awslambda',\n",
      "    'sceneXplain',\n",
      "    'graphql',\n",
      "    'openweathermap-api',\n",
      "    'dataforseo-api-search',\n",
      "    'dataforseo-api-search-json',\n",
      "    'eleven_labs_text2speech',\n",
      "    'news-api',\n",
      "    'tmdb-api',\n",
      "    'podcast-api',\n",
      "    'llm-math',\n",
      "    'open-meteo-api']\n"
     ]
    }
   ],
   "source": [
    "import pprint\n",
    "from langchain.agents import get_all_tool_names\n",
    "pp = pprint.PrettyPrinter(indent=4)\n",
    "pp.pprint(get_all_tool_names())"
   ]
  },
  {
   "cell_type": "markdown",
   "metadata": {},
   "source": [
    "# Using Action Agents"
   ]
  },
  {
   "cell_type": "markdown",
   "metadata": {},
   "source": [
    "- Agent interface provides the flexibility for applications to chain a series of calls and other tools based on the user input, to get to an answer.\n",
    "- An agent has access to a suite of tools and determines step by step which one to use, depending on the what the user prompted."
   ]
  },
  {
   "cell_type": "markdown",
   "metadata": {},
   "source": [
    "## Types"
   ]
  },
  {
   "cell_type": "markdown",
   "metadata": {},
   "source": [
    "- There are two types of agents:\n",
    "  - Action Agents:\n",
    "    - at each timestep, decide on the next action using the outputs of all previous actions\n",
    "  - Plan & Execution Agents\n",
    "    - decide on the full sequence of actions up front, then execute them all without updating the plan."
   ]
  },
  {
   "cell_type": "code",
   "execution_count": 19,
   "metadata": {},
   "outputs": [],
   "source": [
    "prompt = \"\"\"When was the third president of france born? What is that year raised to the power of 3?\"\"\""
   ]
  },
  {
   "cell_type": "markdown",
   "metadata": {},
   "source": [
    "- LLM Math requires a language model to be passed in, because what llm math does is it takes an input, converts it to Python code and executes that Python code to return a result.\n",
    "- Zero Shot React: Agent uses ReAct framework to determine which tools to use based solely on the tools description. This is the most general purpose action agent available."
   ]
  },
  {
   "cell_type": "code",
   "execution_count": 20,
   "metadata": {},
   "outputs": [],
   "source": [
    "llm = OpenAI(temperature=0)\n",
    "tools = load_tools([\"wikipedia\", \"llm-math\"], llm=llm)\n",
    "agent = initialize_agent(tools=tools, llm=llm, agent=\"zero-shot-react-description\", verbose=True)"
   ]
  },
  {
   "cell_type": "code",
   "execution_count": 21,
   "metadata": {},
   "outputs": [
    {
     "name": "stdout",
     "output_type": "stream",
     "text": [
      "\n",
      "\n",
      "\u001b[1m> Entering new AgentExecutor chain...\u001b[0m\n",
      "\u001b[32;1m\u001b[1;3m I need to find out when the third president of France was born and then use a calculator to calculate the power of 3.\n",
      "Action: Wikipedia\n",
      "Action Input: Third president of France\u001b[0m\n",
      "Observation: \u001b[36;1m\u001b[1;3mPage: President of France\n",
      "Summary: The president of France, officially the president of the French Republic (French: Président de la République française), is the executive head of state of France, and the commander-in-chief of the French Armed Forces. As the presidency is the supreme magistracy of the country, the position is the highest office in France. The powers, functions and duties of prior presidential offices, in addition to their relation with the prime minister and government of France, have over time differed with the various constitutional documents since the Second Republic.  \n",
      "The president of the French Republic is the ex officio co-prince of Andorra, grand master of the Legion of Honour and of the National Order of Merit. The officeholder is also honorary proto-canon of the Archbasilica of Saint John Lateran in Rome, although some have rejected the title in the past. \n",
      "The current president is Emmanuel Macron, who succeeded François Hollande on 14 May 2017, and was inaugurated for a second term on 7 May 2022.\n",
      "\n",
      "\n",
      "\n",
      "Page: List of presidents of France\n",
      "Summary: The president of France is the head of state of France. The first officeholder is considered to be Louis-Napoléon Bonaparte, who was elected in 1848 and provoked the 1851 self-coup to later proclaim himself emperor as Napoleon III. His coup, which proved popular as he sought the restoration of universal male suffrage previously abolished by the legislature, granted the newly established Second Empire firm ground.\n",
      "A republican regime was given way again in 1870 through the Third Republic, after the fall of Napoleon III. A 1962 referendum held under the Fifth Republic at the request of President Charles de Gaulle transferred the election of the president of France from an electoral college to a popular vote. Since then, ten presidential elections have taken place. The 25th and current officeholder has been Emmanuel Macron since 14 May 2017.\n",
      "\n",
      "Page: French Third Republic\n",
      "Summary: The French Third Republic (French: Troisième République, sometimes written as La IIIe République) was the system of government adopted in France from 4 September 1870, when the Second French Empire collapsed during the Franco-Prussian War, until 10 July 1940, after the Fall of France during World War II led to the formation of the Vichy government.\n",
      "The early days of the Third Republic were dominated by political disruptions caused by the Franco-Prussian War of 1870–1871, which the Republic continued to wage after the fall of Emperor Napoleon III in 1870. Harsh reparations exacted by the Prussians after the war resulted in the loss of the French regions of Alsace (keeping the Territoire de Belfort) and Lorraine (the northeastern part, i.e. present-day department of Moselle), social upheaval, and the establishment of the Paris Commune. The early governments of the Third Republic considered re-establishing the monarchy, but disagreement as to the nature of that monarchy and the rightful occupant of the throne could not be resolved. Consequently, the Third Republic, originally envisioned as a provisional government, instead became the permanent form of government of France.\n",
      "The French Constitutional Laws of 1875 defined the composition of the Third Republic. It consisted of a Chamber of Deputies and a Senate to form the legislative branch of government and a president to serve as head of state. Calls for the re-establishment of the monarchy dominated the tenures of the first two presidents, Adolphe Thiers and Patrice de MacMahon, but growing support for the republican form of government among the French populace and a series of republican presidents in the 1880s gradually quashed prospects of a monarchical restoration.\n",
      "The Third Republic established many French colonial possessions, including French Indochina, French Madagascar, French Polynesia, and large territories in West Africa during the Scramble for Africa, all of them acquired during the last two decades of the 19th century. The early \u001b[0m\n",
      "Thought:\u001b[32;1m\u001b[1;3m I now know the third president of France was Adolphe Thiers and he was born in 1797.\n",
      "Action: Calculator\n",
      "Action Input: 1797^3\u001b[0m\n",
      "Observation: \u001b[33;1m\u001b[1;3mAnswer: 5802888573\u001b[0m\n",
      "Thought:\u001b[32;1m\u001b[1;3m I now know the answer to the original question.\n",
      "Final Answer: The third president of France, Adolphe Thiers, was born in 1797 and 1797 raised to the power of 3 is 5802888573.\u001b[0m\n",
      "\n",
      "\u001b[1m> Finished chain.\u001b[0m\n"
     ]
    },
    {
     "data": {
      "text/plain": [
       "'The third president of France, Adolphe Thiers, was born in 1797 and 1797 raised to the power of 3 is 5802888573.'"
      ]
     },
     "execution_count": 21,
     "metadata": {},
     "output_type": "execute_result"
    }
   ],
   "source": [
    "agent.run(prompt)"
   ]
  },
  {
   "cell_type": "code",
   "execution_count": null,
   "metadata": {},
   "outputs": [],
   "source": []
  }
 ],
 "metadata": {
  "kernelspec": {
   "display_name": "venv",
   "language": "python",
   "name": "python3"
  },
  "language_info": {
   "codemirror_mode": {
    "name": "ipython",
    "version": 3
   },
   "file_extension": ".py",
   "mimetype": "text/x-python",
   "name": "python",
   "nbconvert_exporter": "python",
   "pygments_lexer": "ipython3",
   "version": "3.10.12"
  },
  "orig_nbformat": 4
 },
 "nbformat": 4,
 "nbformat_minor": 2
}
