{
 "cells": [
  {
   "cell_type": "code",
   "execution_count": 11,
   "metadata": {},
   "outputs": [],
   "source": [
    "# libs\n",
    "import json\n",
    "import os\n",
    "from dotenv import load_dotenv\n",
    "\n",
    "load_dotenv(\".env\")\n",
    "os.environ[\"OPENAI_API_KEY\"] = os.getenv(\"OPENAI_API_KEY\")\n",
    "os.environ[\"HUGGINGFACEHUB_API_TOKEN\"] = os.getenv(\"HUGGINGFACE_API_KEY\")\n",
    "\n",
    "from langchain.llms import OpenAI\n",
    "from langchain.llms import HuggingFaceHub"
   ]
  },
  {
   "cell_type": "markdown",
   "metadata": {},
   "source": [
    "# Using Different Models with LangChain"
   ]
  },
  {
   "cell_type": "code",
   "execution_count": 80,
   "metadata": {},
   "outputs": [],
   "source": [
    "model = \"google/flan-t5-base\""
   ]
  },
  {
   "cell_type": "code",
   "execution_count": 81,
   "metadata": {},
   "outputs": [],
   "source": [
    "hf_llm = HuggingFaceHub(repo_id=model, model_kwargs={\"temperature\": 0, \"max_length\": 512})"
   ]
  },
  {
   "cell_type": "code",
   "execution_count": 85,
   "metadata": {},
   "outputs": [
    {
     "data": {
      "text/plain": [
       "'Read html that i will provide in next line text given below and extract employee / person information such as Full Name, Title, Certification, Phone Number, Email ID, BIO. Use these as keys for json Full Name, Title, Certification, Phone Number, Email ID, BIO and return output as json format. If some information not present then just return null as value for that key, I only want json not a string.\\nHTML_DOC = \"\"\"<div class=\"blitz-staff-outer-wrap blitz_staff column width-1-6\" style=\"; color: rgb(0, 0, 0); display: flex; font-family: Roboto; font-size: 16px; font-style: normal; font-weight: 400\"><div class=\"staff-post list\" style=\"; color: rgb(0, 0, 0); display: block; font-family: Roboto; font-size: 0px; font-style: normal; font-weight: 400\"><div class=\"staff-details\" style=\"; color: rgb(0, 0, 0); display: flex; font-family: Roboto; font-size: 0px; font-style: normal; font-weight: 400\"><a href=\"https://www.matveyconstruction.com/meet-the-team/michelle-s/\" class=\"staff-link staff-image\"></a><div class=\"wrap\" style=\"; color: rgb(0, 0, 0); display: block; font-family: Roboto; font-size: 0px; font-style: normal; font-weight: 400\"><a href=\"https://www.matveyconstruction.com/meet-the-team/michelle-s/\" class=\"staff-title-wrappers\"><h2 class=\"staff-title\" style=\"; color: rgb(26, 41, 48); display: block; font-family: Lato; font-size: 24px; font-style: normal; font-weight: 600\">Michelle S.</h2></a><div class=\"staff-job-title-wrappers\" style=\"; color: rgb(0, 0, 0); display: block; font-family: Roboto; font-size: 0px; font-style: normal; font-weight: 400\"><span class=\"staff-job-title\" style=\"; color: rgb(85, 85, 85); display: inline-block; font-family: Roboto; font-size: 12.8px; font-style: italic; font-weight: 700\">Director of Marketing</span></div></div></div></div></div>\"\"\"\\n'"
      ]
     },
     "execution_count": 85,
     "metadata": {},
     "output_type": "execute_result"
    }
   ],
   "source": [
    "prompt = '''Read html that i will provide in next line text given below and extract employee / person information such as Full Name, Title, Certification, Phone Number, Email ID, BIO. Use these as keys for json Full Name, Title, Certification, Phone Number, Email ID, BIO and return output as json format. If some information not present then just return null as value for that key, I only want json not a string.\n",
    "HTML_DOC = \"\"\"<div class=\"blitz-staff-outer-wrap blitz_staff column width-1-6\" style=\"; color: rgb(0, 0, 0); display: flex; font-family: Roboto; font-size: 16px; font-style: normal; font-weight: 400\"><div class=\"staff-post list\" style=\"; color: rgb(0, 0, 0); display: block; font-family: Roboto; font-size: 0px; font-style: normal; font-weight: 400\"><div class=\"staff-details\" style=\"; color: rgb(0, 0, 0); display: flex; font-family: Roboto; font-size: 0px; font-style: normal; font-weight: 400\"><a href=\"https://www.matveyconstruction.com/meet-the-team/michelle-s/\" class=\"staff-link staff-image\"></a><div class=\"wrap\" style=\"; color: rgb(0, 0, 0); display: block; font-family: Roboto; font-size: 0px; font-style: normal; font-weight: 400\"><a href=\"https://www.matveyconstruction.com/meet-the-team/michelle-s/\" class=\"staff-title-wrappers\"><h2 class=\"staff-title\" style=\"; color: rgb(26, 41, 48); display: block; font-family: Lato; font-size: 24px; font-style: normal; font-weight: 600\">Michelle S.</h2></a><div class=\"staff-job-title-wrappers\" style=\"; color: rgb(0, 0, 0); display: block; font-family: Roboto; font-size: 0px; font-style: normal; font-weight: 400\"><span class=\"staff-job-title\" style=\"; color: rgb(85, 85, 85); display: inline-block; font-family: Roboto; font-size: 12.8px; font-style: italic; font-weight: 700\">Director of Marketing</span></div></div></div></div></div>\"\"\"\n",
    "'''\n",
    "prompt"
   ]
  },
  {
   "cell_type": "code",
   "execution_count": 86,
   "metadata": {},
   "outputs": [
    {
     "name": "stdout",
     "output_type": "stream",
     "text": [
      "Response :: div class=\"blitz-staff-outer-wrap blitz_staff column width-1-6\" style=\"\"; color: rgb(0, 0, 0); display: flex; font-family: Roboto; font-size: 0px; font-style: normal; font-weight: 400\">div class=\"staff-details\" style=\"; color: rgb(0, 0, 0); display: block; font-family: Roboto; font-size: 0px; font-style: normal; font-weight: 400\">a href=\"https://www.matveyconstruction.com/meet-the-team/michelle-s/\" class=\"staff-title-wrappers\">h2 class=\"staff-title\" style=\"; color: rgb(26, 41, 48); display: block; font-family: Roboto; font-size: 0px; font-style: normal; font-weight: 400\">span class=\"staff-job-title-wrappers\" style=\"; color: rgb(85, 85, 85); display: inline-block; font-family: Roboto; font-size: 12.8px; font-style: italic; font-weight: 700\">Director of Marketing/span>/div>/div>/div>/div>/div>/div>/div>, :: <class 'str'>\n"
     ]
    }
   ],
   "source": [
    "response = hf_llm(prompt=prompt)\n",
    "print(f\"Response :: {response}, :: {type(response)}\")"
   ]
  },
  {
   "cell_type": "code",
   "execution_count": null,
   "metadata": {},
   "outputs": [],
   "source": []
  }
 ],
 "metadata": {
  "kernelspec": {
   "display_name": "venv",
   "language": "python",
   "name": "python3"
  },
  "language_info": {
   "codemirror_mode": {
    "name": "ipython",
    "version": 3
   },
   "file_extension": ".py",
   "mimetype": "text/x-python",
   "name": "python",
   "nbconvert_exporter": "python",
   "pygments_lexer": "ipython3",
   "version": "3.10.12"
  },
  "orig_nbformat": 4
 },
 "nbformat": 4,
 "nbformat_minor": 2
}
